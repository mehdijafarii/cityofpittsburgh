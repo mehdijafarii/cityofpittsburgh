{
 "cells": [
  {
   "cell_type": "code",
   "execution_count": 1,
   "id": "ac6d6b83",
   "metadata": {},
   "outputs": [
    {
     "name": "stdout",
     "output_type": "stream",
     "text": [
      "Downloading and importing airlines...\n",
      "Downloading and importing airports...\n",
      "Downloading and importing flights...\n",
      "All data successfully loaded into 'city_of_pittsburgh.db'\n"
     ]
    }
   ],
   "source": [
    "import pandas as pd\n",
    "import sqlite3\n",
    "import requests\n",
    "from io import StringIO\n",
    "\n",
    "# File URLs\n",
    "urls = {\n",
    "    \"airlines\": \"https://storage.googleapis.com/data_services_for_job_candidates/airlines%202.csv\",\n",
    "    \"airports\": \"https://storage.googleapis.com/data_services_for_job_candidates/airports%202.csv\",\n",
    "    \"flights\": \"https://storage.googleapis.com/data_services_for_job_candidates/flights_trunc%202%202.csv\"\n",
    "}\n",
    "\n",
    "# SQLite database connection\n",
    "conn = sqlite3.connect(\"city_of_pittsburgh.db\")\n",
    "\n",
    "for name, url in urls.items():\n",
    "    print(f\"Downloading and importing {name}...\")\n",
    "    response = requests.get(url)\n",
    "    response.raise_for_status()\n",
    "    \n",
    "    # Load CSV into DataFrame\n",
    "    df = pd.read_csv(StringIO(response.text))\n",
    "    \n",
    "    # Dump to SQLite\n",
    "    df.to_sql(name, conn, if_exists=\"replace\", index=False)\n",
    "\n",
    "print(\"All data successfully loaded into 'city_of_pittsburgh.db'\")\n",
    "conn.close()"
   ]
  },
  {
   "cell_type": "code",
   "execution_count": null,
   "id": "70027800",
   "metadata": {},
   "outputs": [
    {
     "name": "stdout",
     "output_type": "stream",
     "text": [
      "Downloading and importing airlines...\n",
      "Downloading and importing airports...\n",
      "Downloading and importing flights...\n",
      "✅ All CSV files successfully loaded into MySQL.\n"
     ]
    }
   ],
   "source": [
    "import pandas as pd\n",
    "import sqlalchemy\n",
    "import pymysql\n",
    "import requests\n",
    "from io import StringIO\n",
    "\n",
    "# MySQL connection config\n",
    "MYSQL_USER = 'root'\n",
    "MYSQL_PWD = '137601376'\n",
    "MYSQL_HOST = 'localhost'\n",
    "MYSQL_PORT = 3306\n",
    "DB_NAME = 'city_of_pittsburgh'\n",
    "\n",
    "# Step 1: Create the database using pymysql directly\n",
    "conn = pymysql.connect(\n",
    "    host=MYSQL_HOST,\n",
    "    user=MYSQL_USER,\n",
    "    password=MYSQL_PWD,\n",
    "    port=MYSQL_PORT\n",
    ")\n",
    "cursor = conn.cursor()\n",
    "cursor.execute(f\"CREATE DATABASE IF NOT EXISTS {DB_NAME}\")\n",
    "conn.commit()\n",
    "conn.close()\n",
    "\n",
    "# Step 2: Use SQLAlchemy to connect to the newly created database\n",
    "engine = sqlalchemy.create_engine(f'mysql+pymysql://{MYSQL_USER}:{MYSQL_PWD}@{MYSQL_HOST}:{MYSQL_PORT}/{DB_NAME}')\n",
    "\n",
    "# CSV file sources\n",
    "urls = {\n",
    "    \"airlines\": \"https://storage.googleapis.com/data_services_for_job_candidates/airlines%202.csv\",\n",
    "    \"airports\": \"https://storage.googleapis.com/data_services_for_job_candidates/airports%202.csv\",\n",
    "    \"flights\": \"https://storage.googleapis.com/data_services_for_job_candidates/flights_trunc%202%202.csv\"\n",
    "}\n",
    "\n",
    "# Download and load each CSV\n",
    "for table_name, url in urls.items():\n",
    "    print(f\"Downloading and importing {table_name}...\")\n",
    "    response = requests.get(url)\n",
    "    response.raise_for_status()\n",
    "\n",
    "    df = pd.read_csv(StringIO(response.text))\n",
    "    df.to_sql(table_name, con=engine, if_exists='replace', index=False)\n",
    "\n",
    "print(\"✅ All CSV files successfully loaded into MySQL.\")"
   ]
  }
 ],
 "metadata": {
  "kernelspec": {
   "display_name": "venv",
   "language": "python",
   "name": "python3"
  },
  "language_info": {
   "codemirror_mode": {
    "name": "ipython",
    "version": 3
   },
   "file_extension": ".py",
   "mimetype": "text/x-python",
   "name": "python",
   "nbconvert_exporter": "python",
   "pygments_lexer": "ipython3",
   "version": "3.13.2"
  }
 },
 "nbformat": 4,
 "nbformat_minor": 5
}
